{
 "cells": [
  {
   "cell_type": "code",
   "execution_count": 1,
   "id": "782b3710",
   "metadata": {
    "scrolled": false
   },
   "outputs": [
    {
     "data": {
      "text/plain": [
       "4.1"
      ]
     },
     "execution_count": 1,
     "metadata": {},
     "output_type": "execute_result"
    }
   ],
   "source": [
    "4.1"
   ]
  },
  {
   "cell_type": "code",
   "execution_count": 6,
   "id": "e756257d",
   "metadata": {},
   "outputs": [
    {
     "name": "stdout",
     "output_type": "stream",
     "text": [
      "Enter your guess (choose a number between 1 and 10): 1\n",
      "too low\n",
      "Enter your guess (choose a number between 1 and 10): 9\n",
      "too high\n",
      "Enter your guess (choose a number between 1 and 10): 5\n",
      "too low\n",
      "Enter your guess (choose a number between 1 and 10): 6\n",
      "too low\n",
      "Enter your guess (choose a number between 1 and 10): 7\n",
      "just right\n",
      "You got it!\n"
     ]
    }
   ],
   "source": [
    "secret = 7  # The secret number\n",
    "\n",
    "while True:  # This loop to play the guessing game \n",
    "    # Ask the user for their guess\n",
    "    guess = int(input(\"Enter your guess (choose a number between 1 and 10): \"))\n",
    "    \n",
    "    # Check if it's too low, too high, or just right\n",
    "    if guess < secret:\n",
    "        print(\"too low\")\n",
    "    elif guess > secret:\n",
    "        print(\"too high\")\n",
    "    else:\n",
    "        print(\"just right\")\n",
    "        break  # to get out of the loop\n",
    "\n",
    "# When they get it right\n",
    "print(\"You got it!\")"
   ]
  },
  {
   "cell_type": "code",
   "execution_count": 7,
   "id": "f371e50a",
   "metadata": {},
   "outputs": [
    {
     "data": {
      "text/plain": [
       "4.2"
      ]
     },
     "execution_count": 7,
     "metadata": {},
     "output_type": "execute_result"
    }
   ],
   "source": [
    "4.2"
   ]
  },
  {
   "cell_type": "code",
   "execution_count": 8,
   "id": "ed9c4a58",
   "metadata": {},
   "outputs": [
    {
     "name": "stdout",
     "output_type": "stream",
     "text": [
      "Is it small? (yes or no): no\n",
      "Is it green? (yes or no): yes\n",
      "It's a watermelon!\n",
      "Want to try again? (yes or no): yes\n",
      "Is it small? (yes or no): yes\n",
      "Is it green? (yes or no): yes\n",
      "It's a pea!\n",
      "Want to try again? (yes or no): yes\n",
      "Is it small? (yes or no): no\n",
      "Is it green? (yes or no): no\n",
      "It's a pumpkin!\n",
      "Want to try again? (yes or no): yes\n",
      "Is it small? (yes or no): yes\n",
      "Is it green? (yes or no): no\n",
      "It's a cherry!\n",
      "Want to try again? (yes or no): no\n"
     ]
    }
   ],
   "source": [
    "while True:\n",
    "    # Ask the user for input\n",
    "    is_small = input(\"Is it small? (yes or no): \").lower() == \"yes\"\n",
    "    is_green = input(\"Is it green? (yes or no): \").lower() == \"yes\"\n",
    "    \n",
    "    # check which item is a match\n",
    "    if is_small:\n",
    "        if is_green:\n",
    "            print(\"It's a pea!\")\n",
    "        else:\n",
    "            print(\"It's a cherry!\")\n",
    "    else:\n",
    "        if is_green:\n",
    "            print(\"It's a watermelon!\")\n",
    "        else:\n",
    "            print(\"It's a pumpkin!\")\n",
    "\n",
    "    # Ask the user if they want to continue\n",
    "    keep_going = input(\"Want to try again? (yes or no): \").lower()\n",
    "    if keep_going != \"yes\":\n",
    "        break\n"
   ]
  },
  {
   "cell_type": "code",
   "execution_count": 9,
   "id": "0ad316f5",
   "metadata": {},
   "outputs": [
    {
     "data": {
      "text/plain": [
       "6.1"
      ]
     },
     "execution_count": 9,
     "metadata": {},
     "output_type": "execute_result"
    }
   ],
   "source": [
    "6.1"
   ]
  },
  {
   "cell_type": "code",
   "execution_count": 10,
   "id": "66b921d5",
   "metadata": {},
   "outputs": [
    {
     "name": "stdout",
     "output_type": "stream",
     "text": [
      "3\n",
      "2\n",
      "1\n",
      "0\n"
     ]
    }
   ],
   "source": [
    "numbers = [3, 2, 1, 0]\n",
    "for number in numbers:\n",
    "    print(number)"
   ]
  },
  {
   "cell_type": "code",
   "execution_count": 11,
   "id": "8f24645c",
   "metadata": {},
   "outputs": [
    {
     "data": {
      "text/plain": [
       "6.2"
      ]
     },
     "execution_count": 11,
     "metadata": {},
     "output_type": "execute_result"
    }
   ],
   "source": [
    "6.2"
   ]
  },
  {
   "cell_type": "code",
   "execution_count": 13,
   "id": "4274b8d4",
   "metadata": {},
   "outputs": [
    {
     "name": "stdout",
     "output_type": "stream",
     "text": [
      "1 is too low\n",
      "2 is too low\n",
      "3 is too low\n",
      "4 is too low\n",
      "5 is too low\n",
      "6 is too low\n",
      "found it!\n"
     ]
    }
   ],
   "source": [
    "guess_me = 7\n",
    "number = 1\n",
    "\n",
    "while True:\n",
    "    if number < guess_me:\n",
    "        print(f'{number} is too low')\n",
    "    elif number == guess_me:\n",
    "        print('found it!')\n",
    "        break\n",
    "    else:\n",
    "        print('oops')\n",
    "        break\n",
    "    number += 1\n"
   ]
  },
  {
   "cell_type": "code",
   "execution_count": 14,
   "id": "77cd3659",
   "metadata": {},
   "outputs": [
    {
     "data": {
      "text/plain": [
       "6.3"
      ]
     },
     "execution_count": 14,
     "metadata": {},
     "output_type": "execute_result"
    }
   ],
   "source": [
    "6.3"
   ]
  },
  {
   "cell_type": "code",
   "execution_count": 16,
   "id": "860577e4",
   "metadata": {},
   "outputs": [
    {
     "name": "stdout",
     "output_type": "stream",
     "text": [
      "0 is too low\n",
      "1 is too low\n",
      "2 is too low\n",
      "3 is too low\n",
      "4 is too low\n",
      "5 is just right, found it!\n"
     ]
    }
   ],
   "source": [
    "guess_me = 5\n",
    "\n",
    "for number in range(10):\n",
    "    if number < guess_me:\n",
    "        print(f'{number} is too low')\n",
    "    elif number == guess_me:\n",
    "        print(f'{number} is just right, found it!')\n",
    "        break\n",
    "    else:\n",
    "        print(f'{number} is too high, oops')\n",
    "        break\n"
   ]
  },
  {
   "cell_type": "code",
   "execution_count": null,
   "id": "4b2654e6",
   "metadata": {},
   "outputs": [],
   "source": []
  }
 ],
 "metadata": {
  "kernelspec": {
   "display_name": "Python 3 (ipykernel)",
   "language": "python",
   "name": "python3"
  },
  "language_info": {
   "codemirror_mode": {
    "name": "ipython",
    "version": 3
   },
   "file_extension": ".py",
   "mimetype": "text/x-python",
   "name": "python",
   "nbconvert_exporter": "python",
   "pygments_lexer": "ipython3",
   "version": "3.10.9"
  }
 },
 "nbformat": 4,
 "nbformat_minor": 5
}
